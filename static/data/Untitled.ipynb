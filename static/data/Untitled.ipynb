{
 "cells": [
  {
   "cell_type": "code",
   "execution_count": 1,
   "id": "936f68b8",
   "metadata": {},
   "outputs": [],
   "source": [
    "import pandas as pd\n",
    "import numpy as np\n",
    "import json"
   ]
  },
  {
   "cell_type": "code",
   "execution_count": 9,
   "id": "d5ceb7e3",
   "metadata": {},
   "outputs": [],
   "source": [
    "coord_2d = pd.read_json('2d_coord.json').values\n",
    "region = pd.read_json('region.json').values[0]"
   ]
  },
  {
   "cell_type": "code",
   "execution_count": 16,
   "id": "599b76e8",
   "metadata": {},
   "outputs": [],
   "source": [
    "result = [[] for _ in range(92)]"
   ]
  },
  {
   "cell_type": "code",
   "execution_count": 20,
   "id": "10f8271a",
   "metadata": {},
   "outputs": [],
   "source": [
    "cnt = 0\n",
    "for i in coord_2d:\n",
    "    result[region[cnt]-1].append(i)\n",
    "    cnt+=1"
   ]
  },
  {
   "cell_type": "code",
   "execution_count": 27,
   "id": "c06276ce",
   "metadata": {},
   "outputs": [
    {
     "data": {
      "text/plain": [
       "-6.252634525299072"
      ]
     },
     "execution_count": 27,
     "metadata": {},
     "output_type": "execute_result"
    }
   ],
   "source": [
    "min(list(map(lambda x:x[0],result[0])))"
   ]
  },
  {
   "cell_type": "code",
   "execution_count": 39,
   "id": "6704b310",
   "metadata": {},
   "outputs": [],
   "source": [
    "final = []\n",
    "for i in result:\n",
    "    \n",
    "    final.append(np.mean(i,axis=0).tolist())"
   ]
  },
  {
   "cell_type": "code",
   "execution_count": 33,
   "id": "49555a1c",
   "metadata": {},
   "outputs": [
    {
     "data": {
      "text/plain": [
       "numpy.float64"
      ]
     },
     "execution_count": 33,
     "metadata": {},
     "output_type": "execute_result"
    }
   ],
   "source": [
    "type(final[0][0])"
   ]
  },
  {
   "cell_type": "code",
   "execution_count": 40,
   "id": "a0e1d630",
   "metadata": {},
   "outputs": [],
   "source": [
    "file_name = 'regionc.json' #通过扩展名指定文件存储的数据为json格式\n",
    "with open(file_name,'w') as file_object:\n",
    "    json.dump(final,file_object)"
   ]
  },
  {
   "cell_type": "code",
   "execution_count": 36,
   "id": "fdf1f552",
   "metadata": {},
   "outputs": [
    {
     "data": {
      "text/plain": [
       "array([41.23363379, 29.04065316])"
      ]
     },
     "execution_count": 36,
     "metadata": {},
     "output_type": "execute_result"
    }
   ],
   "source": [
    "np.mean(result[0],axis=0)"
   ]
  },
  {
   "cell_type": "code",
   "execution_count": null,
   "id": "f8a80b43",
   "metadata": {},
   "outputs": [],
   "source": []
  }
 ],
 "metadata": {
  "kernelspec": {
   "display_name": "Python 3",
   "language": "python",
   "name": "python3"
  },
  "language_info": {
   "codemirror_mode": {
    "name": "ipython",
    "version": 3
   },
   "file_extension": ".py",
   "mimetype": "text/x-python",
   "name": "python",
   "nbconvert_exporter": "python",
   "pygments_lexer": "ipython3",
   "version": "3.9.1"
  },
  "vscode": {
   "interpreter": {
    "hash": "05f38930ba20c3da0b0576fdfe401b3638e2e54de17b52199f4546177dc43a6c"
   }
  }
 },
 "nbformat": 4,
 "nbformat_minor": 5
}
